{
 "metadata": {
  "name": "",
  "signature": "sha256:59e7dc1482cf11c5aa677264417e9ca8c191a660197ddca5ddc64fd1bdd194ff"
 },
 "nbformat": 3,
 "nbformat_minor": 0,
 "worksheets": [
  {
   "cells": [
    {
     "cell_type": "code",
     "collapsed": false,
     "input": [
      "from bs4 import BeautifulSoup as BS\n",
      "import urllib.request\n",
      "import requests\n",
      "import json\n",
      "import urllib"
     ],
     "language": "python",
     "metadata": {},
     "outputs": [],
     "prompt_number": 1
    },
    {
     "cell_type": "code",
     "collapsed": false,
     "input": [
      "# get_text : URL(str) ->> BS element\n",
      "def get_text(URL):\n",
      "    source_code_from_URL = str(urllib.request.urlopen(URL).read(), \"utf-8\").replace(\"<br>\", \"<br/>\").replace(\"<br/><br/>\", \"<br/>\")\n",
      "    soup = BS(source_code_from_URL, 'html.parser')\n",
      "    result = soup.find_all('div', id=\"dic_area\")\n",
      "\n",
      "    # entertain \ub274\uc2a4\ub97c \ub808\ud37c\ub7f0\uc2a4\ub85c \ud558\ub294 \uacbd\uc6b0 \ubcc4\ub3c4\uc758 \ud578\ub4e4\ub9c1 \ud544\uc694\n",
      "    if not result:\n",
      "        #print(URL)\n",
      "        source_code_from_URL = str(urllib.request.urlopen(\n",
      "            URL.replace(\"m.news.naver.com\", \"m.entertain.naver.com\")).read(), \"utf-8\").replace(\"<br>\", \"<br/>\").replace(\"<br/><br/>\", \"<br/>\")\n",
      "        soup = BS(source_code_from_URL, 'html.parser')\n",
      "        result = soup.find_all('div', id=\"contentArea\")\n",
      "    \n",
      "    return result[0]"
     ],
     "language": "python",
     "metadata": {},
     "outputs": [],
     "prompt_number": 2
    },
    {
     "cell_type": "code",
     "collapsed": false,
     "input": [
      "# BS contents ->>  [indexed dictionary, ...]\n",
      "def jsonify_content(content):\n",
      "    \n",
      "    # BS.contents\ub294 html \ud0dc\uadf8 \uc548\uc758 \ubaa8\ub4e0 first child\ub97c \ub9ac\uc2a4\ud2b8\ub85c \ubc18\ud658\n",
      "    # \ud0dc\uadf8\uac00 \uc5c6\uc5b4\ub3c4 \ubb34\ubc29\ud558\ubbc0\ub85c \ubcf8\ubb38 \ub0b4\uc6a9\uae4c\uc9c0 \ubcc4\ub3c4\uc758 child\ub85c \ub9ac\ud134\ub428\n",
      "    # \uae30\uc0ac \uc55e\ub4a4\uc758 \ube48 \uce78(\ud0ed, \uc904\ubc14\uafc8 \uae30\ud638 \ub4f1)\uc744 \uc798\ub77c\ub0b4\uace0 br \ud0dc\uadf8\ub97c \uc81c\uac70\ud568\n",
      "    content_list = content.contents\n",
      "    x = list(filter(lambda s : s != \"<br/>\", map(lambda s: str(s).strip(), content_list)))\n",
      "    \n",
      "    # \uac01 object\uc5d0 \uae30\uc0ac \uc694\uc18c\uc758 \ubc30\uce58 \uc21c\uc11c\ub97c \uc9c0\uc2dc\n",
      "    index = 0\n",
      "    \n",
      "    # json_list\uc5d0 \uac01 \uae30\uc0ac \uc694\uc18c\ub97c \uc21c\uc11c\ub300\ub85c \ub2f4\uc544 \ub9ac\ud134\n",
      "    \n",
      "    json_list = []\n",
      "    # \ud14d\uc2a4\ud2b8 \ud0c0\uc785\uc5d0 \ub530\ub77c \ubd84\ub958\n",
      "    # type : text, video, image, link\n",
      "    for i in x:\n",
      "\n",
      "        # \uc798\ubabb \ub098\uc628 \ub188\uc740 \uac78\ub7ec\uc57c \ud55c\ub2e4. \uc778\ub371\uc2a4 \ucd94\uac00 \uc548\ud558\uace0 \ub2e4\uc74c \uc694\uc18c \ud0d0\uc0c9\n",
      "        if i == \"\":\n",
      "            continue\n",
      "\n",
      "        # \uc5ec\uae30\ubd80\ud134 \uc5b4\uca0c\ub4e0 \uc694\uc18c\uc5d0 \uc18d\ud568.\n",
      "        # HTML \ud0dc\uadf8\uac00 \ud558\ub098\ub3c4 \uc5c6\uc73c\uba74 \ud14d\uc2a4\ud2b8\ub85c \ubd84\ub958\n",
      "        if not \"<\" in i: \n",
      "            json_list.append({'ArticleIndex': index, \"ArticleType\": \"text\", 'content' : i})\n",
      "\n",
      "        # \ud0dc\uadf8\uac00 \uc788\ub294 \uc694\uc18c\ub4e4\uc740 \ub2e4\uc74c\uacfc \uac19\uc774 \ubd84\ub958\ud568:\n",
      "        else: \n",
      "            bs = BS(i, 'html.parser')\n",
      "\n",
      "            # \ube44\ub514\uc624 \ud0dc\uadf8 : To Be Implemented\n",
      "            if \"asdfjsadjfkadsljfkahfjladshfkjadshkf\" in i:\n",
      "                continue\n",
      "            \n",
      "            # \uc774\ubbf8\uc9c0 \ud0dc\uadf8 : \ub300\ubd80\ubd84 span\uc73c\ub85c \ubb36\uc5ec \uc788\uc74c. \uc0ac\uc9c4\uacfc \ud0dc\uadf8 \ud3ec\ud568\n",
      "            # \ub2e4\ub9cc \ub2e4\ub978 \ud615\uc2dd\uc5d0 span\uc774 \uc0ac\uc6a9\ub420 \uc218 \uc788\uc73c\ubbc0\ub85c img\ub97c \uc774\uc6a9\ud568\n",
      "            elif \"<img\" in i:\n",
      "                img_url = bs.find('img').get('data-src')\n",
      "                img_tag = bs.find('em', class_='img_desc')\n",
      "                # \uc774\ubbf8\uc9c0 \ud0dc\uadf8\uac00 \uc5c6\uc73c\uba74 \ube48 \uc2a4\ud2b8\ub9c1\uc744 \uc800\uc7a5\ud568.\n",
      "                if img_tag: img_tag = img_tag.text\n",
      "                else: img_tag = \"\"\n",
      "                json_list.append({'ArticleIndex': index, \"ArticleType\": \"image\", 'content': img_url, 'tag' : img_tag})\n",
      "                \n",
      "\n",
      "            # \ub9c1\ud06c \ud0dc\uadf8 : a \uc548\uc5d0 \ub4e4\uc5b4 \uc788\uc74c\n",
      "            # \ub124\uc774\ubc84 \uae30\uc0ac\ub294 \ubcf8\ubb38 \uc548\uc5d0 \ub9c1\ud06c \uc0bd\uc785 \uc798 \uc548\ud558\ubbc0\ub85c a \uc548\uc758 \uc694\uc18c\ub9cc \ub530\ub3c4 \ubb34\ubc29\n",
      "            elif \"<a\" in i: \n",
      "                link_url = bs.find('a').get('href')\n",
      "                link_text = bs.find('a').text\n",
      "                json_list.append({'ArticleIndex': index, \"ArticleType\": \"link\", 'url': link_url, 'content': link_text})\n",
      "\n",
      "            # \uc18c\uc81c\ubaa9 \ud0dc\uadf8 : strong, em \ub4f1\uc758 \ud14d\uc2a4\ud2b8 \uc694\uc18c\ub97c \ud3ec\ud568\ud568\n",
      "            elif any([\"<font\" in i, \"<strong\" in i, \"<b\" in i]): \n",
      "                json_list.append({'ArticleIndex': index, \"ArticleType\": \"strapline\", 'content': bs.text})\n",
      "\n",
      "            # \uac00\ub054 \ud14d\uc2a4\ud2b8\uc5d0 \uaebe\uc1e0\ub97c \uc9d1\uc5b4\ub123\ub294 \ub625\uac19\uc740 \uc5b8\ub860\uc0ac\ub4e4\uc774 \uc788\uc74c\n",
      "            # \ubb38\uacfc\uac00 \ub610...\n",
      "            # \uc774 \uacbd\uc6b0\ub294 \ud14d\uc2a4\ud2b8\ub85c \ubd84\ub958\n",
      "            else:\n",
      "                json_list.append({'ArticleIndex': index, \"ArticleType\": \"text\", 'content': bs.text})\n",
      "\n",
      "        #print(index)\n",
      "        index += 1\n",
      "    return json_list\n",
      "  "
     ],
     "language": "python",
     "metadata": {},
     "outputs": [],
     "prompt_number": 3
    },
    {
     "cell_type": "code",
     "collapsed": false,
     "input": [
      "# test\n",
      "test_url = \"http://m.news.naver.com/read.nhn?oid=003&aid=0007952216\""
     ],
     "language": "python",
     "metadata": {},
     "outputs": [],
     "prompt_number": 4
    },
    {
     "cell_type": "code",
     "collapsed": false,
     "input": [
      "class Content:\n",
      "    index = None\n",
      "    type = None\n",
      "    content = None\n",
      "\n",
      "    def __init__(self, i, t, c):\n",
      "        self.index = i\n",
      "        self.type = t\n",
      "        self.content = c\n"
     ],
     "language": "python",
     "metadata": {},
     "outputs": [],
     "prompt_number": 5
    },
    {
     "cell_type": "code",
     "collapsed": false,
     "input": [
      "class NewsArticle:\n",
      "    ArticleID = 0\n",
      "    ArticleTitle = None\n",
      "    SectionName = None\n",
      "    ArticleDate = None\n",
      "    ThumbnailImageURL = None\n",
      "    Video = False\n",
      "    Link = None\n",
      "    Press = None\n",
      "    Raw_contents = None\n",
      "    Contents = []\n",
      "\n",
      "    def log(self):\n",
      "        print(\"\\tArticle ID : \" + str(self.ArticleID))\n",
      "        print(\"\\tArticle Title : \" + str(self.ArticleTitle))\n",
      "        print(\"\\tArticle Section : \" + str(self.SectionName))\n",
      "        print(\"\\tArticle Date : \" + str(self.ArticleDate))\n",
      "        print(\"\\tThumbnail URL : \" + str(self.ThumbnailImageURL))\n",
      "        print(\"\\tVideo? : \" + str(self.Video))\n",
      "        print(\"\\tArticle Link : \" + str(self.Link))\n",
      "        print(\"\\tContents : \" + str(self.Contents))\n",
      "\n",
      "    def get_contents(self):\n",
      "        texts = get_text(self.Link)\n",
      "        self.Raw_contents = texts\n",
      "        self.Contents = jsonify_content(texts)\n",
      "        \n",
      "    def write(self):\n",
      "        with open(\"articles/%s%s\" % (self.ArticleDate.replace(\":\", \"\").replace(\"-\", \"\").replace(\" \", \"\"), self.ArticleID), \"w\") as f:\n",
      "            f.write(str(self))\n",
      "    \n",
      "    def __str__(self):\n",
      "        d = dict()\n",
      "        d[\"ArticleID\"] = str(self.ArticleID)\n",
      "        d[\"ArticleTitle\"] = str(self.ArticleTitle)\n",
      "        d[\"SectionName\"] = str(self.SectionName)\n",
      "        d[\"ArticleDate\"] = str(self.ArticleDate)\n",
      "        d[\"Press\"] = str(self.Press)\n",
      "        d[\"ThumbnailImageURL\"] = str(self.ThumbnailImageURL)\n",
      "        d[\"Video\"] = str(self.Video)\n",
      "        d[\"Link\"] = str(self.Link)\n",
      "        d[\"Contents\"] = (self.Contents)\n",
      "        return str(d)"
     ],
     "language": "python",
     "metadata": {},
     "outputs": [],
     "prompt_number": 6
    },
    {
     "cell_type": "code",
     "collapsed": false,
     "input": [
      "url = \"http://m.news.naver.com/mainNews/moreMainNews.json\"\n",
      "\n",
      "headers = {\n",
      "    'Content-Type': 'application/x-www-form-urlencoded; charset=UTF-8',\n",
      "    'Host': 'm.news.naver.com',\n",
      "    'Origin': 'http://m.news.naver.com',\n",
      "    'Referer': 'http://m.news.naver.com/',\n",
      "    'X-Requested-With': 'XMLHttpRequest'\n",
      "}\n"
     ],
     "language": "python",
     "metadata": {},
     "outputs": [],
     "prompt_number": 7
    },
    {
     "cell_type": "code",
     "collapsed": false,
     "input": [
      "def request_list(k, section=0):\n",
      "    data = {\"page\": str(k), \"sectionId\":101}\n",
      "    r = requests.post(url, headers=headers, data=data)\n",
      "    data = json.loads(r.text)\n",
      "    articleList = []\n",
      "    for j in range(12):\n",
      "        # data\uc758 \ub370\uc774\ud130 \uc120\ud0dd \ubc0f article \ud074\ub798\uc2a4 \uc0dd\uc131\n",
      "        articleData = data[\"message\"][\"itemList\"][j]\n",
      "        article = NewsArticle()\n",
      "        # \uc8fc\uc694 \ud56d\ubaa9 \uc0bd\uc785\n",
      "        article.ArticleID = articleData[\"articleId\"]\n",
      "        article.ArticleTitle = articleData[\"title\"]\n",
      "        article.ArticleDate = articleData[\"standardFullDate\"]\n",
      "        article.ThumbnailImageURL = str(articleData[\"imageUrl\"])\n",
      "        article.Video = articleData[\"videoType\"]\n",
      "        article.Press = articleData[\"officeName\"]\n",
      "        article.Link = \"http://m.news.naver.com\" + articleData[\"linkUrl\"]\n",
      "        article.SectionName = (\n",
      "            articleData[\"sectionName\"] if articleData[\"sectionName\"] else None)\n",
      "        article.get_contents()\n",
      "        articleList.append(article)\n",
      "    return articleList"
     ],
     "language": "python",
     "metadata": {},
     "outputs": [],
     "prompt_number": 8
    },
    {
     "cell_type": "code",
     "collapsed": false,
     "input": [
      "# \ud06c\ub864\ub9c1 \ud14c\uc2a4\ud2b8\n",
      "'''\n",
      "for i in range(1, 2):\n",
      "    for j in request_list(i):\n",
      "        j.write()\n",
      "    #z = z + z1\n",
      "    print(i)\n",
      "print(\"Done\")\n",
      "'''"
     ],
     "language": "python",
     "metadata": {},
     "outputs": [
      {
       "metadata": {},
       "output_type": "pyout",
       "prompt_number": 9,
       "text": [
        "'\\nfor i in range(1, 2):\\n    for j in request_list(i):\\n        j.write()\\n    #z = z + z1\\n    print(i)\\nprint(\"Done\")\\n'"
       ]
      }
     ],
     "prompt_number": 9
    },
    {
     "cell_type": "code",
     "collapsed": false,
     "input": [
      "# \ud14c\uc2a4\ud2b8 \ud504\ub9b0\ud305\n",
      "'''\n",
      "for i in z[1:2]:\n",
      "    print(\"=======================================================\")\n",
      "    print(\"begin article %s\" % i.ArticleTitle)\n",
      "    print(str(i.Contents))\n",
      "    print(\"end of article %s\" % i.ArticleTitle)\n",
      "    print(\"=======================================================\")\n",
      "    '''"
     ],
     "language": "python",
     "metadata": {},
     "outputs": [
      {
       "metadata": {},
       "output_type": "pyout",
       "prompt_number": 10,
       "text": [
        "'\\nfor i in z[1:2]:\\n    print(\"=======================================================\")\\n    print(\"begin article %s\" % i.ArticleTitle)\\n    print(str(i.Contents))\\n    print(\"end of article %s\" % i.ArticleTitle)\\n    print(\"=======================================================\")\\n    '"
       ]
      }
     ],
     "prompt_number": 10
    },
    {
     "cell_type": "code",
     "collapsed": false,
     "input": [
      "import sqlite3\n",
      "from flask import Flask, request, session, g, redirect, url_for, \\\n",
      "     abort, render_template, flash\n",
      "    "
     ],
     "language": "python",
     "metadata": {},
     "outputs": [],
     "prompt_number": 11
    },
    {
     "cell_type": "code",
     "collapsed": false,
     "input": [
      "'''\n",
      "app = Flask(__name__)\n",
      "\n",
      "@app.route('/')\n",
      "def index():\n",
      "    return \"Hello, world!\"\n",
      "\n",
      "@app.route(\"/Article/<index>\")\n",
      "def article(index):\n",
      "    return str(z[i + int(index)])\n",
      "\n",
      "@app.route(\"/ArticleList/<index>\")\n",
      "def articleList(index):\n",
      "    li = []\n",
      "    for i in range(30):\n",
      "        li.append(eval(str(z[i + int(index)])))\n",
      "    return str(li)\n",
      "\n",
      "\n",
      "@app.route(\"/ArticleAfter/<time>\")\n",
      "def articleafter(time):\n",
      "    li = []\n",
      "    idx = 0\n",
      "    while len(li) < 30 :\n",
      "    \n",
      "'''    \n",
      "    "
     ],
     "language": "python",
     "metadata": {},
     "outputs": [
      {
       "metadata": {},
       "output_type": "pyout",
       "prompt_number": 12,
       "text": [
        "'\\napp = Flask(__name__)\\n\\n@app.route(\\'/\\')\\ndef index():\\n    return \"Hello, world!\"\\n\\n@app.route(\"/Article/<index>\")\\ndef article(index):\\n    return str(z[i + int(index)])\\n\\n@app.route(\"/ArticleList/<index>\")\\ndef articleList(index):\\n    li = []\\n    for i in range(30):\\n        li.append(eval(str(z[i + int(index)])))\\n    return str(li)\\n\\n\\n@app.route(\"/ArticleAfter/<time>\")\\ndef articleafter(time):\\n    li = []\\n    idx = 0\\n    while len(li) < 30 :\\n    \\n'"
       ]
      }
     ],
     "prompt_number": 12
    },
    {
     "cell_type": "code",
     "collapsed": false,
     "input": [
      "#app.run(\"0.0.0.0\", port=1234)"
     ],
     "language": "python",
     "metadata": {},
     "outputs": [],
     "prompt_number": 13
    },
    {
     "cell_type": "code",
     "collapsed": false,
     "input": [
      "sql = '''\n",
      "create table if not exists entries (\n",
      "    ArticleID text,\n",
      "    ArticleTitle text,\n",
      "    SectionName text,\n",
      "    ArticleDate text,\n",
      "    ThumbnailImageURL text,\n",
      "    Video text,\n",
      "    Link text,\n",
      "    Contents text\n",
      ");'''"
     ],
     "language": "python",
     "metadata": {},
     "outputs": [],
     "prompt_number": 14
    },
    {
     "cell_type": "code",
     "collapsed": false,
     "input": [],
     "language": "python",
     "metadata": {},
     "outputs": [],
     "prompt_number": 14
    },
    {
     "cell_type": "code",
     "collapsed": false,
     "input": [
      "from os import listdir\n",
      "from os.path import isfile, join\n",
      "mypath = \"articles/\"\n",
      "article_index = [f for f in listdir(mypath) if isfile(join(mypath, f))]\n",
      "article_index = sorted(article_index)"
     ],
     "language": "python",
     "metadata": {},
     "outputs": [],
     "prompt_number": 41
    },
    {
     "cell_type": "code",
     "collapsed": false,
     "input": [
      "len(article_index)"
     ],
     "language": "python",
     "metadata": {},
     "outputs": [
      {
       "metadata": {},
       "output_type": "pyout",
       "prompt_number": 42,
       "text": [
        "5892"
       ]
      }
     ],
     "prompt_number": 42
    },
    {
     "cell_type": "code",
     "collapsed": false,
     "input": [
      "\n",
      "#onlyfiles"
     ],
     "language": "python",
     "metadata": {},
     "outputs": [],
     "prompt_number": 35
    },
    {
     "cell_type": "code",
     "collapsed": false,
     "input": [
      "print(open(\"articles/2017051923250009278164\", \"r\").read())"
     ],
     "language": "python",
     "metadata": {},
     "outputs": [
      {
       "output_type": "stream",
       "stream": "stdout",
       "text": [
        "{'ArticleTitle': \"\uce68\uccb4 \ud130\ub110 \ube60\uc838\ub098\uc624\ub358 \ube0c\ub77c\uc9c8 \uacbd\uc81c \uc815\uad6d\ud63c\ub780\uc73c\ub85c '\uae09\uc81c\ub3d9'\", 'ArticleDate': '2017-05-19 23:25', 'Press': '\uc5f0\ud569\ub274\uc2a4', 'Video': 'False', 'Contents': [{'content': '\uc5f0\uae08\u00b7\ub178\ub3d9 \uac1c\ud601 \uc88c\ucd08 \uc704\uae30\u2026\uc694\ub3d9\uce58\ub358 \uae08\uc735\uc2dc\uc7a5\uc740 \ub2e4\uc18c \uc9c4\uc815\uc138', 'ArticleType': 'text', 'ArticleIndex': 0}, {'content': '(\uc0c1\ud30c\uc6b8\ub8e8=\uc5f0\ud569\ub274\uc2a4) \uae40\uc7ac\uc21c \ud1b5\uc2e0\uc6d0 = \uc0ac\uc0c1 \ucd5c\uc545\uc758 \uc7a5\uae30 \uce68\uccb4 \uad6d\uba74\uc744 \uc9c0\ub098 \uc11c\uc11c\ud788 \ud68c\ubcf5\uc138\ub97c \ubcf4\uc774\ub358 \ube0c\ub77c\uc9c8 \uacbd\uc81c\uac00 \uc815\uce58\uc801 \ubcc0\uc218 \ub54c\ubb38\uc5d0 \ub610\ub2e4\uc2dc \ubc1c\ubaa9\uc744 \uc7a1\ud614\ub2e4.', 'ArticleType': 'text', 'ArticleIndex': 1}, {'content': '\ubbf8\uc170\uc6b0 \ud14c\uba54\ub974 \ub300\ud1b5\ub839\uc774 \ubd80\ud328 \uc815\uce58\uc778\uc758 \uc785\ub9c9\uc74c\uc744 \uc704\ud574 \ub1cc\ubb3c \uc81c\uacf5\uc744 \ub17c\uc758\ud588\ub2e4\ub294 \uc758\ud639\uc73c\ub85c \ud1f4\uc9c4 \uc555\ubc15\uc744 \ubc1b\uc73c\uba74\uc11c \uc2dc\uc7a5\uc5d0\ub3c4 \ud070 \ucda9\uaca9\uc744 \uc8fc\uace0 \uc788\ub2e4.', 'ArticleType': 'text', 'ArticleIndex': 2}, {'content': 'http://imgnews.naver.net/image/001/2017/05/19/AKR20170519198600094_01_i_20170519232804231.jpg?type=w430', 'tag': '\ud1f4\uc9c4 \uc555\ubc15\uc744 \ubc1b\ub294 \ubbf8\uc170\uc6b0 \ud14c\uba54\ub974 \ube0c\ub77c\uc9c8 \ub300\ud1b5\ub839[\uad6d\uc601 \ub274\uc2a4\ud1b5\uc2e0 \uc544\uc820\uc2dc\uc544 \ube0c\ub77c\uc9c8]', 'ArticleType': 'image', 'ArticleIndex': 3}, {'content': '19\uc77c(\ud604\uc9c0\uc2dc\uac04) \ube0c\ub77c\uc9c8 \uc5b8\ub860\uc5d0 \ub530\ub974\uba74 \ube0c\ub77c\uc9c8\uc758 \uc2e0\uc6a9\ub3c4 \uc704\ud5d8\uc744 \ub098\ud0c0\ub0b4\ub294 \uc2e0\uc6a9\ub514\ud3f4\ud2b8\uc2a4\uc640\ud504(CDS) \ud504\ub9ac\ubbf8\uc5c4\uc740 \uc804\ub0a0\uc5d0\ub9cc 28.7% \uc624\ub978 269 \ubca0\uc774\uc2dc\uc2a4 \ud3ec\uc778\ud2b8(bp)\ub97c \uae30\ub85d\ud588\ub2e4.', 'ArticleType': 'text', 'ArticleIndex': 4}, {'content': '\ube0c\ub77c\uc9c8\uc758 CDS \ud504\ub9ac\ubbf8\uc5c4\uc740 2015\ub144 9\uc6d4\uc5d0 539bp\ub85c \uce58\uc19f\uc558\ub2e4\uac00 \ucd5c\uadfc\uc5d0\ub294 199bp\uae4c\uc9c0 \ub0b4\ub824\uac14\uc73c\ub098 \uc815\uad6d\ud63c\ub780\uc73c\ub85c \uae09\uc81c\ub3d9\uc774 \uac78\ub9b0 \uc148\uc774\ub2e4.', 'ArticleType': 'text', 'ArticleIndex': 5}, {'content': '\uae08\uc735\uc2dc\uc7a5\uc740 \uc9c0\ub09c 2008\ub144 \uc774\ub798 \uac00\uc7a5 \uc2ec\ud558\uac8c \uc694\ub3d9\ucce4\ub2e4.', 'ArticleType': 'text', 'ArticleIndex': 6}, {'content': '\uc804\ub0a0 \uc0c1\ud30c\uc6b8\ub8e8 \uc99d\uc2dc\uc758 \ubcf4\ubca0\uc2a4\ud30c(Bovespa) \uc9c0\uc218\ub294 8.8% \ub5a8\uc5b4\uc84c\ub2e4. \uc624\uc804\uc5d0 30\ubd84\uac04 \uac70\ub798\uac00 \uc911\ub2e8\ub418\uae30\ub3c4 \ud588\ub2e4.', 'ArticleType': 'text', 'ArticleIndex': 7}, {'content': '\ubbf8\uad6d \ub2ec\ub7ec\ud654 \ub300\ube44 \ube0c\ub77c\uc9c8 \ud5e4\uc54c\ud654 \uac00\uce58\ub294 8.68% \ud558\ub77d\ud588\ub2e4. \uc911\uc559\uc740\ud589\uc774 40\uc5b5 \ub2ec\ub7ec\ub97c \ud480\uba70 \uac1c\uc785\ud588\uc73c\ub098 \ud5e4\uc54c\ud654 \uac00\uce58 \ud3ed\ub77d\uc138\ub97c \ub9c9\uc9c0 \ubabb\ud588\ub2e4.', 'ArticleType': 'text', 'ArticleIndex': 8}, {'content': '\uae08\uc735\uc2dc\uc7a5\uc740 \ud558\ub8e8\uac00 \uc9c0\ub098\uba74\uc11c \ube44\uad50\uc801 \uc548\uc815\uc744 \ub418\ucc3e\uc558\uc73c\ub098 \ubcf4\ubca0\uc2a4\ud30c \uc9c0\uc218\uc640 \ud5e4\uc54c\ud654 \uac00\uce58 \ud558\ub77d\uc138\ub294 \ub2f9\ubd84\uac04 \uacc4\uc18d\ub420 \uac83\uc73c\ub85c \ubcf4\uc778\ub2e4.', 'ArticleType': 'text', 'ArticleIndex': 9}, {'content': 'http://imgnews.naver.net/image/001/2017/05/19/AKR20170519198600094_02_i_20170519232804240.jpg?type=w430', 'tag': '\uc0c1\ud30c\uc6b8\ub8e8 \uc99d\uc2dc[\ube0c\ub77c\uc9c8 \ub274\uc2a4\ud3ec\ud138 G1]', 'ArticleType': 'image', 'ArticleIndex': 10}, {'content': '\uc804\ubb38\uac00\ub4e4\uc740 \ud14c\uba54\ub974 \uc815\ubd80\uac00 \ucd94\uc9c4\ud558\ub358 \uac1c\ud601\uc791\uc5c5\uc774 \ub3d9\ub825\uc744 \uc783\uc744 \uac00\ub2a5\uc131\uc5d0 \uc8fc\ubaa9\ud558\uace0 \uc788\ub2e4.', 'ArticleType': 'text', 'ArticleIndex': 11}, {'content': '\ud14c\uba54\ub974 \uc815\ubd80\ub294 \uc7ac\uc815\uc801\uc790\ub97c \ud574\uacb0\ud558\uae30 \uc704\ud574 20\ub144\uac04 \uc608\uc0b0\uc9c0\ucd9c \uaddc\ubaa8\ub97c \uc2e4\uc9c8\uc801\uc73c\ub85c \ub3d9\uacb0\ud558\ub294 \uace0\uac15\ub3c4 \uae34\ucd95 \uc870\uce58\ub97c \uc9c0\ub09c\ud574 \ub9c8\ub828\ud55c \ub370 \uc774\uc5b4 \uc62c\ud574 \ub4e4\uc5b4\uc11c\ub294 \uc5f0\uae08\u00b7\ub178\ub3d9 \uac1c\ud601\uc791\uc5c5\uc5d0 \uc2dc\ub3d9\uc744 \uac78\uc5c8\ub2e4.', 'ArticleType': 'text', 'ArticleIndex': 12}, {'content': '\ud14c\uba54\ub974 \ub300\ud1b5\ub839\uc740 \ucd5c\uadfc \uc9d1\uad8c 1\ub144\uc744 \ub9de\uc544 \uc5b8\ub860 \ud68c\uacac\uc744 \ud1b5\ud574 \"\uac1c\ud601\uc774 \uc88c\uc808\ub418\uba74 \uc7ac\uc559\uc774 \ub420 \uac83\"\uc774\ub77c\uba70 \ud604\uc7ac \ucd94\uc9c4 \uc911\uc778 \uc5f0\uae08 \uac1c\ud601\uacfc \ub178\ub3d9\ubc95 \uac1c\uc815 \ub4f1\uc744 \ubc18\ub4dc\uc2dc \uc644\uc218\ud558\uaca0\ub2e4\ub294 \ub73b\uc744 \ubc1d\ud614\ub2e4.', 'ArticleType': 'text', 'ArticleIndex': 13}, {'content': '\uadf8\ub7ec\ub098 \uc774\ubc88 \uc0ac\uac74\uc73c\ub85c \uac1c\ud601\uc791\uc5c5\uc774 \uc0ac\uc2e4\uc0c1 \uc911\ub2e8\ub420 \uc218\ubc16\uc5d0 \uc5c6\ub2e4\ub294 \uac8c \ub300\ub2e4\uc218 \uc804\ubb38\uac00\uc758 \uad00\uce21\uc774\ub2e4.', 'ArticleType': 'text', 'ArticleIndex': 14}, {'content': '\uc7ac\uacc4\ub294 \uc815\uce58\uad8c\uc5d0 \uc2e0\uc18d\ud55c \uc704\uae30 \ud574\uacb0\ucc45\uc744 \uc8fc\ubb38\ud558\uace0 \uc788\ub2e4.', 'ArticleType': 'text', 'ArticleIndex': 15}, {'content': '\uc7ac\uacc4 \uc778\uc0ac\ub4e4\uc740 \"\uacbd\uc81c\ub97c \ub610\ub2e4\uc2dc \uc704\uae30 \uad6d\uba74\uc5d0 \ube60\ub728\ub9ac\uc9c0 \uc54a\uc73c\ub824\uba74 \uc0ac\ubc95 \ub2f9\uad6d\uc758 \ucca0\uc800\ud55c \uc218\uc0ac\ub97c \ud1b5\ud574 \uc9c4\uc0c1\uc744 \uaddc\uba85\ud574\uc57c \ud55c\ub2e4\"\uba74\uc11c \ud14c\uba54\ub974 \ub300\ud1b5\ub839\uc758 \uc989\uac01 \ud1f4\uc9c4\uc744 \ucd09\uad6c\ud588\ub2e4.', 'ArticleType': 'text', 'ArticleIndex': 16}, {'content': 'fidelis21c@yna.co.kr', 'ArticleType': 'text', 'ArticleIndex': 17}, {'content': '\ucd5c\uc2e0 \uc720\ud589 \ud2b8\ub80c\ub4dc \ucd1d\uc9d1\uacb0 #\ud765(\ud074\ub9ad!)', 'url': 'http://hng.yonhapnews.co.kr/?did=1195s', 'ArticleType': 'link', 'ArticleIndex': 18}], 'ArticleID': '0009278164', 'Link': 'http://m.news.naver.com/read.nhn?oid=001&aid=0009278164&sid1=104&mode=LSD', 'ThumbnailImageURL': 'http://mimgnews2.naver.net/image/origin/001/2017/05/19/9278164.jpg', 'SectionName': '\uc138\uacc4'}\n"
       ]
      }
     ],
     "prompt_number": 36
    },
    {
     "cell_type": "code",
     "collapsed": false,
     "input": [
      "app = Flask(__name__)\n",
      "\n",
      "@app.route('/')\n",
      "def index():\n",
      "    return \"Hello, world!\"\n",
      "\n",
      "@app.route(\"/Article/<index>\")\n",
      "def article(index):\n",
      "    index = int(index)\n",
      "    return open(\"articles/\" + article_index[-index], \"r\").read()\n",
      "\n",
      "@app.route(\"/ArticleList/<index>\")\n",
      "def articleList(index):\n",
      "    index = int(index)\n",
      "    li = []\n",
      "    for i in range(30):\n",
      "        try:\n",
      "            li.append(eval(article(index + i)))\n",
      "        except IndexError:\n",
      "            break\n",
      "    return str(li)\n",
      "\n",
      "'''\n",
      "@app.route(\"/ArticleSection/<section>/<index>\")\n",
      "def articleSection(section, index):\n",
      "    li = []\n",
      "    while li < 30\n",
      "    return \"\"\n",
      "'''\n",
      "'''\n",
      "@app.route(\"/ArticleBefore/<time>\")\n",
      "    # time : 201705171200 \uaf34(12\uc790\ub9ac)\n",
      "    li = []\n",
      "    while len(li) < 30:\n",
      "        \n",
      "    \n",
      "    return \n",
      "\n",
      "@app.route(\"/ArticleAfter/<time>\")\n",
      "def articleafter(time):\n",
      "    li = []\n",
      "    currentTime = datetime.date\n",
      "    idx = 0\n",
      "    \n",
      "    return \"\"\n",
      "'''"
     ],
     "language": "python",
     "metadata": {},
     "outputs": [
      {
       "metadata": {},
       "output_type": "pyout",
       "prompt_number": 44,
       "text": [
        "'\\n@app.route(\"/ArticleAfter/<time>\")\\ndef articleafter(time):\\n    li = []\\n    currentTime = datetime.date\\n    idx = 0\\n    \\n    \\n    return \"\"\\n'"
       ]
      }
     ],
     "prompt_number": 44
    },
    {
     "cell_type": "code",
     "collapsed": false,
     "input": [
      "app.run(\"0.0.0.0\", port=1234)"
     ],
     "language": "python",
     "metadata": {},
     "outputs": []
    },
    {
     "cell_type": "code",
     "collapsed": false,
     "input": [
      "import datetime"
     ],
     "language": "python",
     "metadata": {},
     "outputs": []
    },
    {
     "cell_type": "code",
     "collapsed": false,
     "input": [
      "str(datetime.datetime.now()).split(\".\")[0][:-2].replace(\"-\", \"\").replace(\" \", \"\").replace(\":\", \"\") + \"0000000000\""
     ],
     "language": "python",
     "metadata": {},
     "outputs": []
    },
    {
     "cell_type": "code",
     "collapsed": false,
     "input": [
      "from multiprocessing import Process   \n"
     ],
     "language": "python",
     "metadata": {},
     "outputs": []
    }
   ],
   "metadata": {}
  }
 ]
}